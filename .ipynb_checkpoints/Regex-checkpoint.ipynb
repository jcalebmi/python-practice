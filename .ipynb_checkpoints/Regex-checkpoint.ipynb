{
 "cells": [
  {
   "cell_type": "code",
   "execution_count": 1,
   "id": "4be67963",
   "metadata": {},
   "outputs": [],
   "source": [
    "dog = 'a dog in'"
   ]
  },
  {
   "cell_type": "code",
   "execution_count": 3,
   "id": "eedc92bd",
   "metadata": {},
   "outputs": [
    {
     "data": {
      "text/plain": [
       "True"
      ]
     },
     "execution_count": 3,
     "metadata": {},
     "output_type": "execute_result"
    }
   ],
   "source": [
    "'dog' in dog"
   ]
  },
  {
   "cell_type": "code",
   "execution_count": 4,
   "id": "71a3c1ab",
   "metadata": {},
   "outputs": [],
   "source": [
    "import re"
   ]
  },
  {
   "cell_type": "code",
   "execution_count": 5,
   "id": "c16b44e7",
   "metadata": {},
   "outputs": [],
   "source": [
    "# Phone Number r\"(\\d\\d\\d)-\\d\\d\\d-\\d\\d\\d\\d\""
   ]
  },
  {
   "cell_type": "code",
   "execution_count": 6,
   "id": "4fc0f354",
   "metadata": {},
   "outputs": [],
   "source": [
    "text = \"the agent's phone number is 400-555-1234. Call soon!\""
   ]
  },
  {
   "cell_type": "code",
   "execution_count": 8,
   "id": "734a526a",
   "metadata": {},
   "outputs": [
    {
     "data": {
      "text/plain": [
       "<re.Match object; span=(12, 17), match='phone'>"
      ]
     },
     "execution_count": 8,
     "metadata": {},
     "output_type": "execute_result"
    }
   ],
   "source": [
    "pattern = 'phone'\n",
    "re.search(pattern,text)"
   ]
  },
  {
   "cell_type": "code",
   "execution_count": 9,
   "id": "e195c6c0",
   "metadata": {},
   "outputs": [],
   "source": [
    "patter = 'phone'"
   ]
  },
  {
   "cell_type": "code",
   "execution_count": 10,
   "id": "372ec960",
   "metadata": {},
   "outputs": [],
   "source": [
    "match = re.search(pattern, text)"
   ]
  },
  {
   "cell_type": "code",
   "execution_count": 11,
   "id": "089ef00f",
   "metadata": {},
   "outputs": [
    {
     "data": {
      "text/plain": [
       "(12, 17)"
      ]
     },
     "execution_count": 11,
     "metadata": {},
     "output_type": "execute_result"
    }
   ],
   "source": [
    "match.span()"
   ]
  },
  {
   "cell_type": "code",
   "execution_count": 12,
   "id": "c48a303c",
   "metadata": {},
   "outputs": [
    {
     "data": {
      "text/plain": [
       "17"
      ]
     },
     "execution_count": 12,
     "metadata": {},
     "output_type": "execute_result"
    }
   ],
   "source": [
    "match.end()"
   ]
  },
  {
   "cell_type": "code",
   "execution_count": 13,
   "id": "f0b36881",
   "metadata": {},
   "outputs": [
    {
     "data": {
      "text/plain": [
       "12"
      ]
     },
     "execution_count": 13,
     "metadata": {},
     "output_type": "execute_result"
    }
   ],
   "source": [
    "match.start()"
   ]
  },
  {
   "cell_type": "code",
   "execution_count": 14,
   "id": "d0d8d31c",
   "metadata": {},
   "outputs": [],
   "source": [
    "text = 'my phone once, my phone twice'"
   ]
  },
  {
   "cell_type": "code",
   "execution_count": 15,
   "id": "4cb9a50d",
   "metadata": {},
   "outputs": [],
   "source": [
    "match = re.search('phone', text)"
   ]
  },
  {
   "cell_type": "code",
   "execution_count": 16,
   "id": "a51b7c06",
   "metadata": {},
   "outputs": [
    {
     "data": {
      "text/plain": [
       "<re.Match object; span=(3, 8), match='phone'>"
      ]
     },
     "execution_count": 16,
     "metadata": {},
     "output_type": "execute_result"
    }
   ],
   "source": [
    "match"
   ]
  },
  {
   "cell_type": "code",
   "execution_count": 17,
   "id": "c709107a",
   "metadata": {},
   "outputs": [],
   "source": [
    "matches = re.findall('phone', text)"
   ]
  },
  {
   "cell_type": "code",
   "execution_count": 18,
   "id": "4425052a",
   "metadata": {},
   "outputs": [
    {
     "data": {
      "text/plain": [
       "['phone', 'phone']"
      ]
     },
     "execution_count": 18,
     "metadata": {},
     "output_type": "execute_result"
    }
   ],
   "source": [
    "matches"
   ]
  },
  {
   "cell_type": "code",
   "execution_count": 19,
   "id": "89ebf5da",
   "metadata": {},
   "outputs": [
    {
     "data": {
      "text/plain": [
       "2"
      ]
     },
     "execution_count": 19,
     "metadata": {},
     "output_type": "execute_result"
    }
   ],
   "source": [
    "len(matches)"
   ]
  },
  {
   "cell_type": "code",
   "execution_count": 25,
   "id": "4a3fc902",
   "metadata": {},
   "outputs": [
    {
     "name": "stdout",
     "output_type": "stream",
     "text": [
      "(3, 8)\n",
      "phone\n",
      "(18, 23)\n",
      "phone\n"
     ]
    }
   ],
   "source": [
    "for match in re.finditer('phone', text):\n",
    "    print(match.span())\n",
    "    print(match.group())"
   ]
  },
  {
   "cell_type": "code",
   "execution_count": 26,
   "id": "f0b306cf",
   "metadata": {},
   "outputs": [],
   "source": [
    "text = 'my phone number is 400-555-1234'"
   ]
  },
  {
   "cell_type": "code",
   "execution_count": 31,
   "id": "09084cd0",
   "metadata": {},
   "outputs": [],
   "source": [
    "phone = re.search('400-777-1234', text)"
   ]
  },
  {
   "cell_type": "code",
   "execution_count": 32,
   "id": "557f955b",
   "metadata": {},
   "outputs": [],
   "source": [
    "phone"
   ]
  },
  {
   "cell_type": "code",
   "execution_count": 33,
   "id": "036b5ed6",
   "metadata": {},
   "outputs": [],
   "source": [
    "phone = re.search(r'\\d\\d\\d-\\d\\d\\d-\\d\\d\\d\\d', text)"
   ]
  },
  {
   "cell_type": "code",
   "execution_count": 34,
   "id": "455415b5",
   "metadata": {},
   "outputs": [
    {
     "data": {
      "text/plain": [
       "<re.Match object; span=(19, 31), match='400-555-1234'>"
      ]
     },
     "execution_count": 34,
     "metadata": {},
     "output_type": "execute_result"
    }
   ],
   "source": [
    "phone"
   ]
  },
  {
   "cell_type": "code",
   "execution_count": 35,
   "id": "a6b120c0",
   "metadata": {},
   "outputs": [
    {
     "data": {
      "text/plain": [
       "'400-555-1234'"
      ]
     },
     "execution_count": 35,
     "metadata": {},
     "output_type": "execute_result"
    }
   ],
   "source": [
    "phone.group()"
   ]
  },
  {
   "cell_type": "code",
   "execution_count": 38,
   "id": "5885fcfd",
   "metadata": {},
   "outputs": [],
   "source": [
    "phone = re.search(r'\\d{3}-\\d{3}-\\d{4}', text)"
   ]
  },
  {
   "cell_type": "code",
   "execution_count": 39,
   "id": "01614db0",
   "metadata": {},
   "outputs": [
    {
     "data": {
      "text/plain": [
       "<re.Match object; span=(19, 31), match='400-555-1234'>"
      ]
     },
     "execution_count": 39,
     "metadata": {},
     "output_type": "execute_result"
    }
   ],
   "source": [
    "phone"
   ]
  },
  {
   "cell_type": "code",
   "execution_count": 41,
   "id": "143df1f9",
   "metadata": {},
   "outputs": [],
   "source": [
    "phone_pattern = re.compile(r'(\\d{3})-(\\d{3})-(\\d{4})')"
   ]
  },
  {
   "cell_type": "code",
   "execution_count": 42,
   "id": "f35a2367",
   "metadata": {},
   "outputs": [],
   "source": [
    "results = re.search(phone_pattern, text)"
   ]
  },
  {
   "cell_type": "code",
   "execution_count": 43,
   "id": "03c8b398",
   "metadata": {},
   "outputs": [
    {
     "data": {
      "text/plain": [
       "'400-555-1234'"
      ]
     },
     "execution_count": 43,
     "metadata": {},
     "output_type": "execute_result"
    }
   ],
   "source": [
    "results.group()"
   ]
  },
  {
   "cell_type": "code",
   "execution_count": 44,
   "id": "5458e2cb",
   "metadata": {},
   "outputs": [
    {
     "data": {
      "text/plain": [
       "'400'"
      ]
     },
     "execution_count": 44,
     "metadata": {},
     "output_type": "execute_result"
    }
   ],
   "source": [
    "results.group(1)"
   ]
  },
  {
   "cell_type": "code",
   "execution_count": 45,
   "id": "80a2f630",
   "metadata": {},
   "outputs": [
    {
     "data": {
      "text/plain": [
       "'555'"
      ]
     },
     "execution_count": 45,
     "metadata": {},
     "output_type": "execute_result"
    }
   ],
   "source": [
    "results.group(2)"
   ]
  },
  {
   "cell_type": "code",
   "execution_count": 46,
   "id": "1b62a00f",
   "metadata": {},
   "outputs": [
    {
     "data": {
      "text/plain": [
       "'1234'"
      ]
     },
     "execution_count": 46,
     "metadata": {},
     "output_type": "execute_result"
    }
   ],
   "source": [
    "results.group(3)"
   ]
  },
  {
   "cell_type": "code",
   "execution_count": 47,
   "id": "3b899bf1",
   "metadata": {},
   "outputs": [
    {
     "data": {
      "text/plain": [
       "<re.Match object; span=(4, 7), match='cat'>"
      ]
     },
     "execution_count": 47,
     "metadata": {},
     "output_type": "execute_result"
    }
   ],
   "source": [
    "re.search(r'cat|dog', 'The cat is here')"
   ]
  },
  {
   "cell_type": "code",
   "execution_count": 48,
   "id": "1115ab8f",
   "metadata": {},
   "outputs": [
    {
     "data": {
      "text/plain": [
       "['at', 'at', 'at']"
      ]
     },
     "execution_count": 48,
     "metadata": {},
     "output_type": "execute_result"
    }
   ],
   "source": [
    "re.findall(r'at', 'The cat in the hat sat there')"
   ]
  },
  {
   "cell_type": "code",
   "execution_count": 53,
   "id": "50f724f8",
   "metadata": {},
   "outputs": [
    {
     "data": {
      "text/plain": [
       "['e cat', 'e hat', 'sat', 'splat']"
      ]
     },
     "execution_count": 53,
     "metadata": {},
     "output_type": "execute_result"
    }
   ],
   "source": [
    "re.findall(r'.at|...at', 'The cat in the hat sat there went splat.')"
   ]
  },
  {
   "cell_type": "code",
   "execution_count": 55,
   "id": "b4461b0b",
   "metadata": {},
   "outputs": [
    {
     "data": {
      "text/plain": [
       "['1']"
      ]
     },
     "execution_count": 55,
     "metadata": {},
     "output_type": "execute_result"
    }
   ],
   "source": [
    "# ^ for start with\n",
    "re.findall(r'^\\d', '1 is a number')"
   ]
  },
  {
   "cell_type": "code",
   "execution_count": 56,
   "id": "c6c5d3ba",
   "metadata": {},
   "outputs": [
    {
     "data": {
      "text/plain": [
       "['2']"
      ]
     },
     "execution_count": 56,
     "metadata": {},
     "output_type": "execute_result"
    }
   ],
   "source": [
    "# $ for ends with\n",
    "re.findall(r'\\d$', '1 is a number 2')"
   ]
  },
  {
   "cell_type": "code",
   "execution_count": 57,
   "id": "1db4a799",
   "metadata": {},
   "outputs": [],
   "source": [
    "phrase = 'there are 3 numbers 34 inside 5 this sentence'"
   ]
  },
  {
   "cell_type": "code",
   "execution_count": 61,
   "id": "613215d0",
   "metadata": {},
   "outputs": [],
   "source": [
    "pattern = r'[^\\d]+'"
   ]
  },
  {
   "cell_type": "code",
   "execution_count": 62,
   "id": "0a0b4762",
   "metadata": {},
   "outputs": [
    {
     "data": {
      "text/plain": [
       "['there are ', ' numbers ', ' inside ', ' this sentence']"
      ]
     },
     "execution_count": 62,
     "metadata": {},
     "output_type": "execute_result"
    }
   ],
   "source": [
    "re.findall(pattern, phrase)"
   ]
  },
  {
   "cell_type": "code",
   "execution_count": 63,
   "id": "3326215c",
   "metadata": {},
   "outputs": [],
   "source": [
    "text_phrase = 'this is a string. but it has punctuation. how can we remove it?'"
   ]
  },
  {
   "cell_type": "code",
   "execution_count": 65,
   "id": "d312b22f",
   "metadata": {},
   "outputs": [],
   "source": [
    "clean = re.findall(r'[^!.? ]+', text_phrase)"
   ]
  },
  {
   "cell_type": "code",
   "execution_count": 66,
   "id": "38bedcdf",
   "metadata": {},
   "outputs": [
    {
     "data": {
      "text/plain": [
       "'this is a string but it has punctuation how can we remove it'"
      ]
     },
     "execution_count": 66,
     "metadata": {},
     "output_type": "execute_result"
    }
   ],
   "source": [
    "' '.join(clean)"
   ]
  },
  {
   "cell_type": "code",
   "execution_count": 67,
   "id": "4be73f41",
   "metadata": {},
   "outputs": [],
   "source": [
    "text = \"only find the hyphen-words in this sentence. but you do not know how long-ish they are\""
   ]
  },
  {
   "cell_type": "code",
   "execution_count": 68,
   "id": "94cee644",
   "metadata": {},
   "outputs": [
    {
     "data": {
      "text/plain": [
       "'only find the hyphen-words in this sentence. but you do not know how long-ish they are'"
      ]
     },
     "execution_count": 68,
     "metadata": {},
     "output_type": "execute_result"
    }
   ],
   "source": [
    "text"
   ]
  },
  {
   "cell_type": "code",
   "execution_count": 75,
   "id": "9d59ab67",
   "metadata": {},
   "outputs": [],
   "source": [
    "pattern = r'[\\w]+'"
   ]
  },
  {
   "cell_type": "code",
   "execution_count": 76,
   "id": "9a3662c0",
   "metadata": {},
   "outputs": [
    {
     "data": {
      "text/plain": [
       "['only',\n",
       " 'find',\n",
       " 'the',\n",
       " 'hyphen',\n",
       " 'words',\n",
       " 'in',\n",
       " 'this',\n",
       " 'sentence',\n",
       " 'but',\n",
       " 'you',\n",
       " 'do',\n",
       " 'not',\n",
       " 'know',\n",
       " 'how',\n",
       " 'long',\n",
       " 'ish',\n",
       " 'they',\n",
       " 'are']"
      ]
     },
     "execution_count": 76,
     "metadata": {},
     "output_type": "execute_result"
    }
   ],
   "source": [
    "re.findall(pattern, text)"
   ]
  },
  {
   "cell_type": "code",
   "execution_count": 77,
   "id": "2ca3ad83",
   "metadata": {},
   "outputs": [],
   "source": [
    "pattern = r'[\\w]+-[\\w]+'"
   ]
  },
  {
   "cell_type": "code",
   "execution_count": 78,
   "id": "cca03249",
   "metadata": {},
   "outputs": [
    {
     "data": {
      "text/plain": [
       "['hyphen-words', 'long-ish']"
      ]
     },
     "execution_count": 78,
     "metadata": {},
     "output_type": "execute_result"
    }
   ],
   "source": [
    "re.findall(pattern, text)"
   ]
  },
  {
   "cell_type": "code",
   "execution_count": 82,
   "id": "1638905d",
   "metadata": {},
   "outputs": [],
   "source": [
    "text = 'hello, would you like some catfish?'\n",
    "text2= 'hello, would you like to catnap?'\n",
    "text3 = 'hello, have you seen this caterpillar?'"
   ]
  },
  {
   "cell_type": "code",
   "execution_count": 84,
   "id": "1221ca81",
   "metadata": {},
   "outputs": [
    {
     "data": {
      "text/plain": [
       "<re.Match object; span=(26, 37), match='caterpillar'>"
      ]
     },
     "execution_count": 84,
     "metadata": {},
     "output_type": "execute_result"
    }
   ],
   "source": [
    "re.search(r'cat(fish|nap|erpillar)', text3)"
   ]
  },
  {
   "cell_type": "code",
   "execution_count": null,
   "id": "c3cccbee",
   "metadata": {},
   "outputs": [],
   "source": []
  }
 ],
 "metadata": {
  "kernelspec": {
   "display_name": "Python 3",
   "language": "python",
   "name": "python3"
  },
  "language_info": {
   "codemirror_mode": {
    "name": "ipython",
    "version": 3
   },
   "file_extension": ".py",
   "mimetype": "text/x-python",
   "name": "python",
   "nbconvert_exporter": "python",
   "pygments_lexer": "ipython3",
   "version": "3.8.8"
  }
 },
 "nbformat": 4,
 "nbformat_minor": 5
}
