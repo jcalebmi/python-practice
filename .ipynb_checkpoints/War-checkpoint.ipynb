{
 "cells": [
  {
   "cell_type": "code",
   "execution_count": 1,
   "id": "2ec495d3",
   "metadata": {},
   "outputs": [],
   "source": [
    "import random;\n",
    "values = {'Two': 2, 'Three': 3, 'Four': 4, 'Five': 5, 'Six': 6, 'Seven': 7, 'Eight': 8, 'Nine': 9, 'Ten':10, 'Jack':11, 'Queen': 12, 'King': 13, 'Ace': 14}\n",
    "suits = ('Hearts', 'Diamonds', 'Spades', 'Clubs')\n",
    "ranks = ('Two', 'Three', 'Four', 'Five','Six','Seven','Eight','Nine','Ten', 'Jack','Queen','King','Ace')"
   ]
  },
  {
   "cell_type": "code",
   "execution_count": 2,
   "id": "a31cf774",
   "metadata": {},
   "outputs": [],
   "source": [
    "class Card:\n",
    "    def __init__(self, suit, rank):\n",
    "        self.suit = suit\n",
    "        self.rank = rank\n",
    "        self.value = values[rank]\n",
    "    def __str__(self):\n",
    "        return self.rank + \" of \" + self.suit\n"
   ]
  },
  {
   "cell_type": "code",
   "execution_count": null,
   "id": "23d5ea55",
   "metadata": {},
   "outputs": [],
   "source": []
  },
  {
   "cell_type": "code",
   "execution_count": null,
   "id": "e4fb295d",
   "metadata": {},
   "outputs": [],
   "source": []
  },
  {
   "cell_type": "code",
   "execution_count": null,
   "id": "28ffa3dd",
   "metadata": {},
   "outputs": [],
   "source": []
  },
  {
   "cell_type": "code",
   "execution_count": 3,
   "id": "065d9059",
   "metadata": {},
   "outputs": [],
   "source": [
    "class Deck:\n",
    "    def __init__(self):\n",
    "        self.all_cards = []\n",
    "        \n",
    "        for suit in suits:\n",
    "            for rank in ranks:\n",
    "                created_card = Card(suit, rank)\n",
    "                self.all_cards.append(created_card)\n",
    "    def shuffle(self):\n",
    "        random.shuffle(self.all_cards)\n",
    "    def deal_one(self):\n",
    "        return self.all_cards.pop()"
   ]
  },
  {
   "cell_type": "code",
   "execution_count": 4,
   "id": "24dd4bb1",
   "metadata": {},
   "outputs": [],
   "source": [
    "new_deck = Deck()"
   ]
  },
  {
   "cell_type": "code",
   "execution_count": 5,
   "id": "9b54144c",
   "metadata": {},
   "outputs": [
    {
     "data": {
      "text/plain": [
       "<__main__.Deck at 0x7fbda67ac2e0>"
      ]
     },
     "execution_count": 5,
     "metadata": {},
     "output_type": "execute_result"
    }
   ],
   "source": [
    "new_deck"
   ]
  },
  {
   "cell_type": "code",
   "execution_count": 6,
   "id": "5fb1dabd",
   "metadata": {},
   "outputs": [],
   "source": [
    "new_deck.shuffle()"
   ]
  },
  {
   "cell_type": "code",
   "execution_count": 7,
   "id": "78f14b37",
   "metadata": {},
   "outputs": [
    {
     "name": "stdout",
     "output_type": "stream",
     "text": [
      "Six of Hearts\n",
      "Four of Hearts\n",
      "Nine of Clubs\n",
      "Two of Hearts\n",
      "Two of Clubs\n",
      "Five of Hearts\n",
      "Jack of Hearts\n",
      "Five of Diamonds\n",
      "King of Hearts\n",
      "Eight of Spades\n",
      "Three of Spades\n",
      "Six of Clubs\n",
      "King of Clubs\n",
      "Queen of Hearts\n",
      "Queen of Diamonds\n",
      "Five of Spades\n",
      "Ten of Spades\n",
      "Ten of Clubs\n",
      "Ace of Spades\n",
      "Six of Spades\n",
      "Jack of Diamonds\n",
      "Five of Clubs\n",
      "Seven of Diamonds\n",
      "Four of Diamonds\n",
      "Jack of Clubs\n",
      "Ten of Hearts\n",
      "Three of Hearts\n",
      "Ace of Diamonds\n",
      "Nine of Hearts\n",
      "Six of Diamonds\n",
      "Nine of Spades\n",
      "Eight of Clubs\n",
      "Seven of Hearts\n",
      "Two of Spades\n",
      "Eight of Hearts\n",
      "Ace of Hearts\n",
      "Ten of Diamonds\n",
      "Two of Diamonds\n",
      "King of Spades\n",
      "Seven of Clubs\n",
      "Eight of Diamonds\n",
      "Four of Spades\n",
      "Queen of Spades\n",
      "Three of Clubs\n",
      "Jack of Spades\n",
      "Four of Clubs\n",
      "Ace of Clubs\n",
      "Three of Diamonds\n",
      "Seven of Spades\n",
      "King of Diamonds\n",
      "Queen of Clubs\n",
      "Nine of Diamonds\n"
     ]
    }
   ],
   "source": [
    "for card_object in new_deck.all_cards:\n",
    "    print(card_object)"
   ]
  },
  {
   "cell_type": "code",
   "execution_count": 8,
   "id": "61975f8f",
   "metadata": {},
   "outputs": [],
   "source": [
    "mycard = new_deck.deal_one()"
   ]
  },
  {
   "cell_type": "code",
   "execution_count": 9,
   "id": "22d5626f",
   "metadata": {},
   "outputs": [
    {
     "name": "stdout",
     "output_type": "stream",
     "text": [
      "Nine of Diamonds\n"
     ]
    }
   ],
   "source": [
    "print(mycard)"
   ]
  },
  {
   "cell_type": "code",
   "execution_count": 10,
   "id": "f74ef9a5",
   "metadata": {},
   "outputs": [],
   "source": [
    "class Player:\n",
    "    def __init__(self,name):\n",
    "        self.name = name\n",
    "        self.all_cards = []\n",
    "    def remove_one(self):\n",
    "        return self.all_cards.pop(0)\n",
    "    def add_cards(self, new_cards):\n",
    "        if type(new_cards) == type([]):\n",
    "            self.all_cards.extend(new_cards)\n",
    "        else:\n",
    "            self.all_cards.append(new_cards)\n",
    "    def __str__(self):\n",
    "        return f'Player {self.name} has {len(self.all_cards)} cards.'\n",
    "    "
   ]
  },
  {
   "cell_type": "code",
   "execution_count": 11,
   "id": "28338e77",
   "metadata": {},
   "outputs": [],
   "source": [
    "new_player = Player('Jose')"
   ]
  },
  {
   "cell_type": "code",
   "execution_count": 12,
   "id": "5b6867d1",
   "metadata": {},
   "outputs": [
    {
     "name": "stdout",
     "output_type": "stream",
     "text": [
      "Player Jose has 0 cards.\n"
     ]
    }
   ],
   "source": [
    "print(new_player)"
   ]
  },
  {
   "cell_type": "code",
   "execution_count": 13,
   "id": "d22de532",
   "metadata": {},
   "outputs": [],
   "source": [
    "new_player.add_cards(mycard)"
   ]
  },
  {
   "cell_type": "code",
   "execution_count": 14,
   "id": "772fa7c4",
   "metadata": {},
   "outputs": [
    {
     "name": "stdout",
     "output_type": "stream",
     "text": [
      "Player Jose has 1 cards.\n"
     ]
    }
   ],
   "source": [
    "print(new_player)"
   ]
  },
  {
   "cell_type": "code",
   "execution_count": 15,
   "id": "21d232c9",
   "metadata": {},
   "outputs": [
    {
     "name": "stdout",
     "output_type": "stream",
     "text": [
      "Nine of Diamonds\n"
     ]
    }
   ],
   "source": [
    "print(new_player.all_cards[0])"
   ]
  },
  {
   "cell_type": "code",
   "execution_count": 16,
   "id": "85b39891",
   "metadata": {},
   "outputs": [],
   "source": [
    "new_player.add_cards([mycard, mycard, mycard])"
   ]
  },
  {
   "cell_type": "code",
   "execution_count": 17,
   "id": "1124db3a",
   "metadata": {},
   "outputs": [
    {
     "name": "stdout",
     "output_type": "stream",
     "text": [
      "Player Jose has 4 cards.\n"
     ]
    }
   ],
   "source": [
    "print(new_player)"
   ]
  },
  {
   "cell_type": "code",
   "execution_count": 18,
   "id": "858f4712",
   "metadata": {},
   "outputs": [
    {
     "data": {
      "text/plain": [
       "<__main__.Card at 0x7fbda67acdf0>"
      ]
     },
     "execution_count": 18,
     "metadata": {},
     "output_type": "execute_result"
    }
   ],
   "source": [
    "new_player.remove_one()"
   ]
  },
  {
   "cell_type": "code",
   "execution_count": 19,
   "id": "4f552562",
   "metadata": {},
   "outputs": [
    {
     "name": "stdout",
     "output_type": "stream",
     "text": [
      "Player Jose has 3 cards.\n"
     ]
    }
   ],
   "source": [
    "print(new_player)"
   ]
  },
  {
   "cell_type": "code",
   "execution_count": 20,
   "id": "a38d2817",
   "metadata": {},
   "outputs": [],
   "source": [
    "player1 = Player('one')\n",
    "player2 = Player('two')\n",
    "\n",
    "new_deck = Deck()\n",
    "new_deck.shuffle()\n",
    "\n",
    "for x in range(26):\n",
    "    player1.add_cards(new_deck.deal_one())\n",
    "    player2.add_cards(new_deck.deal_one())"
   ]
  },
  {
   "cell_type": "markdown",
   "id": "03a1de24",
   "metadata": {},
   "source": []
  },
  {
   "cell_type": "code",
   "execution_count": 21,
   "id": "b4d50280",
   "metadata": {},
   "outputs": [],
   "source": [
    "game_on = True\n"
   ]
  },
  {
   "cell_type": "code",
   "execution_count": 22,
   "id": "284eb047",
   "metadata": {},
   "outputs": [
    {
     "name": "stdout",
     "output_type": "stream",
     "text": [
      "Round1\n",
      "Round2\n",
      "Round3\n",
      "Round4\n",
      "Round5\n",
      "Round6\n",
      "Round7\n",
      "Round8\n",
      "War\n",
      "Round9\n",
      "Round10\n",
      "Round11\n",
      "Round12\n",
      "War\n",
      "War\n",
      "Round13\n",
      "Round14\n",
      "Round15\n",
      "Round16\n",
      "Round17\n",
      "Round18\n",
      "Round19\n",
      "Round20\n",
      "Round21\n",
      "Round22\n",
      "Round23\n",
      "Round24\n",
      "Round25\n",
      "Round26\n",
      "Round27\n",
      "Round28\n",
      "Round29\n",
      "Round30\n",
      "Round31\n",
      "Round32\n",
      "Round33\n",
      "Round34\n",
      "Round35\n",
      "Round36\n",
      "Round37\n",
      "Round38\n",
      "Round39\n",
      "Round40\n",
      "Round41\n",
      "Round42\n",
      "Round43\n",
      "Round44\n",
      "Round45\n",
      "Round46\n",
      "Round47\n",
      "Round48\n",
      "Round49\n",
      "Round50\n",
      "Round51\n",
      "Round52\n",
      "Round53\n",
      "Round54\n",
      "Round55\n",
      "Round56\n",
      "Round57\n",
      "Round58\n",
      "Round59\n",
      "Round60\n",
      "Round61\n",
      "Round62\n",
      "Round63\n",
      "War\n",
      "Round64\n",
      "Round65\n",
      "Round66\n",
      "Round67\n",
      "Round68\n",
      "Round69\n",
      "War\n",
      "Round70\n",
      "Round71\n",
      "Round72\n",
      "Round73\n",
      "Round74\n",
      "Round75\n",
      "Round76\n",
      "Round77\n",
      "Round78\n",
      "Round79\n",
      "War\n",
      "Player 1 out of cards. Player 2 wins\n"
     ]
    }
   ],
   "source": [
    "round_num = 0\n",
    "\n",
    "while game_on:\n",
    "    round_num += 1\n",
    "    print(f'Round{round_num}')\n",
    "    \n",
    "    if len(player1.all_cards) == 0:\n",
    "        print(f'Player one out of cards')\n",
    "        game_on = False\n",
    "        break\n",
    "    if len(player2.all_cards) == 0:\n",
    "        print(f'Player two out of cards')\n",
    "        game_on = False\n",
    "        break\n",
    "    player1_cards = []\n",
    "    player1_cards.append(player1.remove_one())\n",
    "    player2_cards = []\n",
    "    player2_cards.append(player2.remove_one())\n",
    "    \n",
    "    at_war = True\n",
    "    \n",
    "    while at_war:\n",
    "        if player1_cards[-1].value > player2_cards[-1].value:\n",
    "            player1.add_cards(player1_cards)\n",
    "            player1.add_cards(player2_cards)\n",
    "            at_war = False\n",
    "        elif player1_cards[-1].value < player2_cards[-1].value:\n",
    "            player2.add_cards(player1_cards)\n",
    "            player2.add_cards(player2_cards)\n",
    "            at_war = False\n",
    "        else:\n",
    "            print('War')\n",
    "            \n",
    "            if len(player1.all_cards) < 5:\n",
    "                print('Player 1 out of cards. Player 2 wins')\n",
    "                game_on = False\n",
    "                break\n",
    "            elif len(player2.all_cards) < 5:\n",
    "                print('Player 2 out of cards. Player 1 wins')\n",
    "                game_on = False\n",
    "                break\n",
    "            else:\n",
    "                for num in range(3):\n",
    "                    player1_cards.append(player1.remove_one())\n",
    "                    player2_cards.append(player2.remove_one())\n",
    "    \n",
    "    \n",
    "        "
   ]
  },
  {
   "cell_type": "code",
   "execution_count": null,
   "id": "3aa6e182",
   "metadata": {},
   "outputs": [],
   "source": []
  },
  {
   "cell_type": "code",
   "execution_count": null,
   "id": "ad81e734",
   "metadata": {},
   "outputs": [],
   "source": []
  },
  {
   "cell_type": "code",
   "execution_count": null,
   "id": "4e8ccc82",
   "metadata": {},
   "outputs": [],
   "source": []
  },
  {
   "cell_type": "code",
   "execution_count": null,
   "id": "12deb219",
   "metadata": {},
   "outputs": [],
   "source": []
  }
 ],
 "metadata": {
  "kernelspec": {
   "display_name": "Python 3",
   "language": "python",
   "name": "python3"
  },
  "language_info": {
   "codemirror_mode": {
    "name": "ipython",
    "version": 3
   },
   "file_extension": ".py",
   "mimetype": "text/x-python",
   "name": "python",
   "nbconvert_exporter": "python",
   "pygments_lexer": "ipython3",
   "version": "3.8.8"
  }
 },
 "nbformat": 4,
 "nbformat_minor": 5
}
