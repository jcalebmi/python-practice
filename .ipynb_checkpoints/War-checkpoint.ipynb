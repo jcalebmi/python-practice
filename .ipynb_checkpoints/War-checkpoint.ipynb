{
 "cells": [
  {
   "cell_type": "code",
   "execution_count": 6,
   "id": "2ec495d3",
   "metadata": {},
   "outputs": [],
   "source": [
    "import random;\n",
    "values = {'Two': 2, 'Three': 3, 'Four': 4, 'Five': 5, 'Six': 6, 'Seven': 7, 'Eight': 8, 'Nine': 9, 'Ten':10, 'Jack':11, 'Queen': 12, 'King': 13, 'Ace': 14}\n",
    "suits = ('Hearts', 'Diamonds', 'Spades', 'Clubs')\n",
    "ranks = ('Two', 'Three', 'Four', 'Five','Six','Seven','Eight','Nine','Ten', 'Jack','Queen','King','Ace')"
   ]
  },
  {
   "cell_type": "code",
   "execution_count": 12,
   "id": "a31cf774",
   "metadata": {},
   "outputs": [],
   "source": [
    "class Card:\n",
    "    def __init__(self, suit, rank):\n",
    "        self.suit = suit\n",
    "        self.rank = rank\n",
    "        self.value = values[rank]\n",
    "    def __str__(self):\n",
    "        return self.rank + \" of \" + self.suit\n"
   ]
  },
  {
   "cell_type": "code",
   "execution_count": 13,
   "id": "23d5ea55",
   "metadata": {},
   "outputs": [],
   "source": [
    "two_hearts = Card(\"Hearts\", \"Two\")"
   ]
  },
  {
   "cell_type": "code",
   "execution_count": 14,
   "id": "e4fb295d",
   "metadata": {},
   "outputs": [],
   "source": [
    "three_clubs = Card(\"Clubs\", \"Three\")"
   ]
  },
  {
   "cell_type": "code",
   "execution_count": null,
   "id": "28ffa3dd",
   "metadata": {},
   "outputs": [],
   "source": []
  },
  {
   "cell_type": "code",
   "execution_count": 32,
   "id": "065d9059",
   "metadata": {},
   "outputs": [],
   "source": [
    "class Deck:\n",
    "    def __init__(self):\n",
    "        self.all_cards = []\n",
    "        \n",
    "        for suit in suits:\n",
    "            for rank in ranks:\n",
    "                created_card = Card(suit, rank)\n",
    "                self.all_cards.append(created_card)\n",
    "    def shuffle(self):\n",
    "        random.shuffle(self.all_cards)\n",
    "    def deal_one(self):\n",
    "        return self.all_cards.pop()"
   ]
  },
  {
   "cell_type": "code",
   "execution_count": 33,
   "id": "24dd4bb1",
   "metadata": {},
   "outputs": [],
   "source": [
    "new_deck = Deck()"
   ]
  },
  {
   "cell_type": "code",
   "execution_count": 34,
   "id": "9b54144c",
   "metadata": {},
   "outputs": [
    {
     "data": {
      "text/plain": [
       "<__main__.Deck at 0x7fc40df729d0>"
      ]
     },
     "execution_count": 34,
     "metadata": {},
     "output_type": "execute_result"
    }
   ],
   "source": [
    "new_deck"
   ]
  },
  {
   "cell_type": "code",
   "execution_count": 35,
   "id": "5fb1dabd",
   "metadata": {},
   "outputs": [],
   "source": [
    "new_deck.shuffle()"
   ]
  },
  {
   "cell_type": "code",
   "execution_count": 31,
   "id": "78f14b37",
   "metadata": {},
   "outputs": [
    {
     "name": "stdout",
     "output_type": "stream",
     "text": [
      "Queen of Hearts\n",
      "Six of Clubs\n",
      "King of Hearts\n",
      "Two of Spades\n",
      "Queen of Clubs\n",
      "Eight of Hearts\n",
      "Seven of Diamonds\n",
      "Ten of Diamonds\n",
      "Queen of Diamonds\n",
      "Ace of Clubs\n",
      "Four of Clubs\n",
      "Jack of Hearts\n",
      "Three of Spades\n",
      "Two of Diamonds\n",
      "Three of Hearts\n",
      "Six of Diamonds\n",
      "King of Clubs\n",
      "Ace of Hearts\n",
      "Five of Diamonds\n",
      "Seven of Spades\n",
      "Jack of Clubs\n",
      "Ace of Spades\n",
      "Ten of Spades\n",
      "Nine of Spades\n",
      "King of Spades\n",
      "Jack of Spades\n",
      "Seven of Clubs\n",
      "Five of Spades\n",
      "Eight of Clubs\n",
      "Nine of Hearts\n",
      "Six of Hearts\n",
      "Jack of Diamonds\n",
      "Four of Spades\n",
      "Nine of Clubs\n",
      "Nine of Diamonds\n",
      "Three of Clubs\n",
      "Ace of Diamonds\n",
      "Queen of Spades\n",
      "Ten of Clubs\n",
      "Ten of Hearts\n",
      "Three of Diamonds\n",
      "Six of Spades\n",
      "Eight of Diamonds\n",
      "Two of Hearts\n",
      "Five of Clubs\n",
      "Seven of Hearts\n",
      "Five of Hearts\n",
      "Four of Diamonds\n",
      "Four of Hearts\n",
      "King of Diamonds\n",
      "Eight of Spades\n",
      "Two of Clubs\n"
     ]
    }
   ],
   "source": [
    "for card_object in new_deck.all_cards:\n",
    "    print(card_object)"
   ]
  },
  {
   "cell_type": "code",
   "execution_count": 36,
   "id": "61975f8f",
   "metadata": {},
   "outputs": [],
   "source": [
    "mycard = new_deck.deal_one()"
   ]
  },
  {
   "cell_type": "code",
   "execution_count": 38,
   "id": "22d5626f",
   "metadata": {},
   "outputs": [
    {
     "name": "stdout",
     "output_type": "stream",
     "text": [
      "King of Hearts\n"
     ]
    }
   ],
   "source": [
    "print(mycard)"
   ]
  },
  {
   "cell_type": "code",
   "execution_count": null,
   "id": "f74ef9a5",
   "metadata": {},
   "outputs": [],
   "source": []
  },
  {
   "cell_type": "code",
   "execution_count": null,
   "id": "28338e77",
   "metadata": {},
   "outputs": [],
   "source": []
  },
  {
   "cell_type": "code",
   "execution_count": null,
   "id": "5b6867d1",
   "metadata": {},
   "outputs": [],
   "source": []
  }
 ],
 "metadata": {
  "kernelspec": {
   "display_name": "Python 3",
   "language": "python",
   "name": "python3"
  },
  "language_info": {
   "codemirror_mode": {
    "name": "ipython",
    "version": 3
   },
   "file_extension": ".py",
   "mimetype": "text/x-python",
   "name": "python",
   "nbconvert_exporter": "python",
   "pygments_lexer": "ipython3",
   "version": "3.8.8"
  }
 },
 "nbformat": 4,
 "nbformat_minor": 5
}
