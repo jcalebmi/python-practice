{
 "cells": [
  {
   "cell_type": "code",
   "execution_count": 1,
   "id": "d9e75c5e",
   "metadata": {},
   "outputs": [],
   "source": [
    "def add(n1, n2):\n",
    "    print(n1+n2)"
   ]
  },
  {
   "cell_type": "code",
   "execution_count": 3,
   "id": "e1324978",
   "metadata": {},
   "outputs": [
    {
     "name": "stdout",
     "output_type": "stream",
     "text": [
      "You arent adding correctly\n"
     ]
    }
   ],
   "source": [
    "try:\n",
    "    result = 10+'10'\n",
    "except:\n",
    "    print(\"You arent adding correctly\")\n",
    "else:\n",
    "    print(\"Add went well\")\n",
    "    print(result)"
   ]
  },
  {
   "cell_type": "code",
   "execution_count": 6,
   "id": "13848525",
   "metadata": {},
   "outputs": [
    {
     "name": "stdout",
     "output_type": "stream",
     "text": [
      "You have an OS error\n",
      "This always runs\n"
     ]
    }
   ],
   "source": [
    "try:\n",
    "    f= open('testfile', 'r')\n",
    "    f.write('Write a test line')\n",
    "except TypeError:\n",
    "    print('There was a type error')\n",
    "except OSError:\n",
    "    print('You have an OS error')\n",
    "except:\n",
    "    print('All other exceptions')\n",
    "finally:\n",
    "    print('This always runs')"
   ]
  },
  {
   "cell_type": "code",
   "execution_count": 10,
   "id": "501ed259",
   "metadata": {},
   "outputs": [],
   "source": [
    "def ask_for_int():\n",
    "    while True:\n",
    "        try: \n",
    "            result = int(input(\"Provide a number: \"))\n",
    "        except:\n",
    "            print(\"Not a number\")\n",
    "            continue\n",
    "        else:\n",
    "            print('Thank you')\n",
    "            break\n",
    "        finally:\n",
    "            print('End of try/except/finally')"
   ]
  },
  {
   "cell_type": "code",
   "execution_count": 11,
   "id": "da642c30",
   "metadata": {},
   "outputs": [
    {
     "name": "stdout",
     "output_type": "stream",
     "text": [
      "Provide a number: 20\n",
      "Thank you\n",
      "End of try/except/finally\n"
     ]
    }
   ],
   "source": [
    "ask_for_int()"
   ]
  },
  {
   "cell_type": "code",
   "execution_count": 12,
   "id": "e7592b0f",
   "metadata": {},
   "outputs": [
    {
     "name": "stdout",
     "output_type": "stream",
     "text": [
      "Provide a number: hello\n",
      "Not a number\n",
      "End of try/except/finally\n",
      "Provide a number: hello\n",
      "Not a number\n",
      "End of try/except/finally\n",
      "Provide a number: hello\n",
      "Not a number\n",
      "End of try/except/finally\n",
      "Provide a number: 10\n",
      "Thank you\n",
      "End of try/except/finally\n"
     ]
    }
   ],
   "source": [
    "ask_for_int()"
   ]
  },
  {
   "cell_type": "code",
   "execution_count": null,
   "id": "d02bb697",
   "metadata": {},
   "outputs": [],
   "source": []
  }
 ],
 "metadata": {
  "kernelspec": {
   "display_name": "Python 3",
   "language": "python",
   "name": "python3"
  },
  "language_info": {
   "codemirror_mode": {
    "name": "ipython",
    "version": 3
   },
   "file_extension": ".py",
   "mimetype": "text/x-python",
   "name": "python",
   "nbconvert_exporter": "python",
   "pygments_lexer": "ipython3",
   "version": "3.8.8"
  }
 },
 "nbformat": 4,
 "nbformat_minor": 5
}
