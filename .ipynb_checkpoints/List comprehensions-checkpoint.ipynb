{
 "cells": [
  {
   "cell_type": "code",
   "execution_count": 6,
   "id": "55da19ef",
   "metadata": {},
   "outputs": [],
   "source": [
    "mystring = 'hello'\n",
    "mylist = []"
   ]
  },
  {
   "cell_type": "code",
   "execution_count": 7,
   "id": "9ec31a2c",
   "metadata": {},
   "outputs": [],
   "source": [
    "for letter in mystring:\n",
    "    mylist.append(letter)"
   ]
  },
  {
   "cell_type": "code",
   "execution_count": 8,
   "id": "44eaa174",
   "metadata": {},
   "outputs": [
    {
     "data": {
      "text/plain": [
       "['h', 'e', 'l', 'l', 'o']"
      ]
     },
     "execution_count": 8,
     "metadata": {},
     "output_type": "execute_result"
    }
   ],
   "source": [
    "mylist"
   ]
  },
  {
   "cell_type": "code",
   "execution_count": 11,
   "id": "2feccdd1",
   "metadata": {},
   "outputs": [],
   "source": [
    "mylist2 = [letter for letter in mystring]\n",
    "# flattens for loop into one line"
   ]
  },
  {
   "cell_type": "code",
   "execution_count": 12,
   "id": "f42a751a",
   "metadata": {},
   "outputs": [
    {
     "data": {
      "text/plain": [
       "['h', 'e', 'l', 'l', 'o']"
      ]
     },
     "execution_count": 12,
     "metadata": {},
     "output_type": "execute_result"
    }
   ],
   "source": [
    "mylist2"
   ]
  },
  {
   "cell_type": "code",
   "execution_count": 18,
   "id": "742a772c",
   "metadata": {},
   "outputs": [],
   "source": [
    "mylist = [num for num in range(0,10)]"
   ]
  },
  {
   "cell_type": "code",
   "execution_count": 17,
   "id": "6e616c70",
   "metadata": {},
   "outputs": [
    {
     "data": {
      "text/plain": [
       "[0, 1, 4, 9, 16, 25, 36, 49, 64, 81]"
      ]
     },
     "execution_count": 17,
     "metadata": {},
     "output_type": "execute_result"
    }
   ],
   "source": [
    "mylist"
   ]
  },
  {
   "cell_type": "code",
   "execution_count": 20,
   "id": "433f2193",
   "metadata": {},
   "outputs": [],
   "source": [
    "mylist = [num**2 for num in range(0,10)]"
   ]
  },
  {
   "cell_type": "code",
   "execution_count": 21,
   "id": "9a7f3028",
   "metadata": {},
   "outputs": [
    {
     "data": {
      "text/plain": [
       "[0, 1, 4, 9, 16, 25, 36, 49, 64, 81]"
      ]
     },
     "execution_count": 21,
     "metadata": {},
     "output_type": "execute_result"
    }
   ],
   "source": [
    "mylist"
   ]
  },
  {
   "cell_type": "code",
   "execution_count": 22,
   "id": "fb24cf25",
   "metadata": {},
   "outputs": [],
   "source": [
    "# can also add if statements\n",
    "mylist = [num**2 for num in range(0,11) if num % 2 == 0]"
   ]
  },
  {
   "cell_type": "code",
   "execution_count": 23,
   "id": "4ebe8655",
   "metadata": {},
   "outputs": [
    {
     "data": {
      "text/plain": [
       "[0, 4, 16, 36, 64, 100]"
      ]
     },
     "execution_count": 23,
     "metadata": {},
     "output_type": "execute_result"
    }
   ],
   "source": [
    "mylist"
   ]
  },
  {
   "cell_type": "code",
   "execution_count": 24,
   "id": "5e609b72",
   "metadata": {},
   "outputs": [],
   "source": [
    "results = [num if num % 2 == 0 else 'ODD' for num in range(0,11)]"
   ]
  },
  {
   "cell_type": "code",
   "execution_count": 25,
   "id": "c966d500",
   "metadata": {},
   "outputs": [
    {
     "data": {
      "text/plain": [
       "[0, 'ODD', 2, 'ODD', 4, 'ODD', 6, 'ODD', 8, 'ODD', 10]"
      ]
     },
     "execution_count": 25,
     "metadata": {},
     "output_type": "execute_result"
    }
   ],
   "source": [
    "results"
   ]
  },
  {
   "cell_type": "code",
   "execution_count": null,
   "id": "2142b3d5",
   "metadata": {},
   "outputs": [],
   "source": []
  }
 ],
 "metadata": {
  "kernelspec": {
   "display_name": "Python 3",
   "language": "python",
   "name": "python3"
  },
  "language_info": {
   "codemirror_mode": {
    "name": "ipython",
    "version": 3
   },
   "file_extension": ".py",
   "mimetype": "text/x-python",
   "name": "python",
   "nbconvert_exporter": "python",
   "pygments_lexer": "ipython3",
   "version": "3.8.8"
  }
 },
 "nbformat": 4,
 "nbformat_minor": 5
}
