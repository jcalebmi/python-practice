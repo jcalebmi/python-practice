{
 "cells": [
  {
   "cell_type": "code",
   "execution_count": 1,
   "id": "60f2008f",
   "metadata": {},
   "outputs": [],
   "source": [
    "f = open('fileone.txt', 'w+')\n",
    "f.write('one file')\n",
    "f.close()"
   ]
  },
  {
   "cell_type": "code",
   "execution_count": 2,
   "id": "1537ce89",
   "metadata": {},
   "outputs": [],
   "source": [
    "f = open('filetwo.txt', 'w+')\n",
    "f.write('two file')\n",
    "f.close()"
   ]
  },
  {
   "cell_type": "code",
   "execution_count": 3,
   "id": "a7f47679",
   "metadata": {},
   "outputs": [],
   "source": [
    "import zipfile"
   ]
  },
  {
   "cell_type": "code",
   "execution_count": 5,
   "id": "95b85f35",
   "metadata": {},
   "outputs": [],
   "source": [
    "comp_file = zipfile.ZipFile('comp_file', 'w')"
   ]
  },
  {
   "cell_type": "code",
   "execution_count": 8,
   "id": "49d98dc2",
   "metadata": {},
   "outputs": [],
   "source": [
    "comp_file.write('fileone.txt', compress_type=zipfile.ZIP_DEFLATED)"
   ]
  },
  {
   "cell_type": "code",
   "execution_count": 9,
   "id": "d08571d3",
   "metadata": {},
   "outputs": [],
   "source": [
    "comp_file.write('filetwo.txt', compress_type=zipfile.ZIP_DEFLATED)"
   ]
  },
  {
   "cell_type": "code",
   "execution_count": 10,
   "id": "ee67812e",
   "metadata": {},
   "outputs": [],
   "source": [
    "comp_file.close()"
   ]
  },
  {
   "cell_type": "code",
   "execution_count": 11,
   "id": "da0b8094",
   "metadata": {},
   "outputs": [],
   "source": [
    "zip_obj = zipfile.ZipFile('comp_file', 'r')"
   ]
  },
  {
   "cell_type": "code",
   "execution_count": 12,
   "id": "71a18cff",
   "metadata": {},
   "outputs": [],
   "source": [
    "zip_obj.extractall('extracted_content')"
   ]
  },
  {
   "cell_type": "code",
   "execution_count": 13,
   "id": "a5f199b8",
   "metadata": {},
   "outputs": [
    {
     "data": {
      "text/plain": [
       "'/Users/CalebIuliano/hackreactor/python-practice'"
      ]
     },
     "execution_count": 13,
     "metadata": {},
     "output_type": "execute_result"
    }
   ],
   "source": [
    "pwd\n"
   ]
  },
  {
   "cell_type": "code",
   "execution_count": 14,
   "id": "a7a89e6c",
   "metadata": {},
   "outputs": [
    {
     "name": "stdout",
     "output_type": "stream",
     "text": [
      "*args **kwargs.ipynb               Untitled1.ipynb\r\n",
      "Collections Module.ipynb           War.ipynb\r\n",
      "Datetime module.ipynb              \u001b[34madvancedPythonModules\u001b[m\u001b[m/\r\n",
      "Debugger.ipynb                     comp_file\r\n",
      "Decorators.ipynb                   \u001b[34mcreateModules\u001b[m\u001b[m/\r\n",
      "Dictionaries.ipynb                 elif statements.ipynb\r\n",
      "Forloop.ipynb                      error handling.ipynb\r\n",
      "Functions.ipynb                    \u001b[34mextracted_content\u001b[m\u001b[m/\r\n",
      "Generators.ipynb                   fileone.txt\r\n",
      "Lamnda functions.ipynb             filetwo.txt\r\n",
      "List comprehensions.ipynb          \u001b[34mmainPackage\u001b[m\u001b[m/\r\n",
      "Lists.ipynb                        mainScript.py\r\n",
      "Math & Random Modules.ipynb        myProgram.py\r\n",
      "Numbers.ipynb                      myfile.txt\r\n",
      "Object Oriented Programming.ipynb  test\r\n",
      "Os & Shutil Module.ipynb           test.txt\r\n",
      "Regex.ipynb                        testfile\r\n",
      "Sets.ipynb                         textfiles.ipynb\r\n",
      "Strings.ipynb                      useful operators.ipynb\r\n",
      "Timing Code.ipynb                  variables.ipynb\r\n",
      "Tuple unpacking.ipynb              while loops.ipynb\r\n",
      "Tuples.ipynb                       zipfile.ipynb\r\n",
      "Untitled.ipynb\r\n"
     ]
    }
   ],
   "source": [
    "ls"
   ]
  },
  {
   "cell_type": "code",
   "execution_count": 15,
   "id": "2159e77e",
   "metadata": {},
   "outputs": [],
   "source": [
    "import shutil"
   ]
  },
  {
   "cell_type": "code",
   "execution_count": 16,
   "id": "273af985",
   "metadata": {},
   "outputs": [],
   "source": [
    "dir_to_zip = '/Users/CalebIuliano/hackreactor/python-practice/extracted_content/'"
   ]
  },
  {
   "cell_type": "code",
   "execution_count": 17,
   "id": "99a9c72b",
   "metadata": {},
   "outputs": [],
   "source": [
    "output_filename = 'example'"
   ]
  },
  {
   "cell_type": "code",
   "execution_count": 18,
   "id": "5551479b",
   "metadata": {},
   "outputs": [
    {
     "data": {
      "text/plain": [
       "'/Users/CalebIuliano/hackreactor/python-practice/example.zip'"
      ]
     },
     "execution_count": 18,
     "metadata": {},
     "output_type": "execute_result"
    }
   ],
   "source": [
    "shutil.make_archive(output_filename, 'zip', dir_to_zip)"
   ]
  },
  {
   "cell_type": "code",
   "execution_count": 19,
   "id": "2b16acc8",
   "metadata": {},
   "outputs": [
    {
     "name": "stdout",
     "output_type": "stream",
     "text": [
      "*args **kwargs.ipynb               Untitled1.ipynb\r\n",
      "Collections Module.ipynb           War.ipynb\r\n",
      "Datetime module.ipynb              \u001b[34madvancedPythonModules\u001b[m\u001b[m/\r\n",
      "Debugger.ipynb                     comp_file\r\n",
      "Decorators.ipynb                   \u001b[34mcreateModules\u001b[m\u001b[m/\r\n",
      "Dictionaries.ipynb                 elif statements.ipynb\r\n",
      "Forloop.ipynb                      error handling.ipynb\r\n",
      "Functions.ipynb                    example.zip\r\n",
      "Generators.ipynb                   \u001b[34mextracted_content\u001b[m\u001b[m/\r\n",
      "Lamnda functions.ipynb             fileone.txt\r\n",
      "List comprehensions.ipynb          filetwo.txt\r\n",
      "Lists.ipynb                        \u001b[34mmainPackage\u001b[m\u001b[m/\r\n",
      "Math & Random Modules.ipynb        mainScript.py\r\n",
      "Numbers.ipynb                      myProgram.py\r\n",
      "Object Oriented Programming.ipynb  myfile.txt\r\n",
      "Os & Shutil Module.ipynb           test\r\n",
      "Regex.ipynb                        test.txt\r\n",
      "Sets.ipynb                         testfile\r\n",
      "Strings.ipynb                      textfiles.ipynb\r\n",
      "Timing Code.ipynb                  useful operators.ipynb\r\n",
      "Tuple unpacking.ipynb              variables.ipynb\r\n",
      "Tuples.ipynb                       while loops.ipynb\r\n",
      "Untitled.ipynb                     zipfile.ipynb\r\n"
     ]
    }
   ],
   "source": [
    "ls"
   ]
  },
  {
   "cell_type": "code",
   "execution_count": 20,
   "id": "70f00785",
   "metadata": {},
   "outputs": [],
   "source": [
    "shutil.unpack_archive('example.zip', 'final_unzip', 'zip')"
   ]
  },
  {
   "cell_type": "code",
   "execution_count": 21,
   "id": "73fdc723",
   "metadata": {},
   "outputs": [
    {
     "name": "stdout",
     "output_type": "stream",
     "text": [
      "*args **kwargs.ipynb               War.ipynb\r\n",
      "Collections Module.ipynb           \u001b[34madvancedPythonModules\u001b[m\u001b[m/\r\n",
      "Datetime module.ipynb              comp_file\r\n",
      "Debugger.ipynb                     \u001b[34mcreateModules\u001b[m\u001b[m/\r\n",
      "Decorators.ipynb                   elif statements.ipynb\r\n",
      "Dictionaries.ipynb                 error handling.ipynb\r\n",
      "Forloop.ipynb                      example.zip\r\n",
      "Functions.ipynb                    \u001b[34mextracted_content\u001b[m\u001b[m/\r\n",
      "Generators.ipynb                   fileone.txt\r\n",
      "Lamnda functions.ipynb             filetwo.txt\r\n",
      "List comprehensions.ipynb          \u001b[34mfinal_unzip\u001b[m\u001b[m/\r\n",
      "Lists.ipynb                        \u001b[34mmainPackage\u001b[m\u001b[m/\r\n",
      "Math & Random Modules.ipynb        mainScript.py\r\n",
      "Numbers.ipynb                      myProgram.py\r\n",
      "Object Oriented Programming.ipynb  myfile.txt\r\n",
      "Os & Shutil Module.ipynb           test\r\n",
      "Regex.ipynb                        test.txt\r\n",
      "Sets.ipynb                         testfile\r\n",
      "Strings.ipynb                      textfiles.ipynb\r\n",
      "Timing Code.ipynb                  useful operators.ipynb\r\n",
      "Tuple unpacking.ipynb              variables.ipynb\r\n",
      "Tuples.ipynb                       while loops.ipynb\r\n",
      "Untitled.ipynb                     zipfile.ipynb\r\n",
      "Untitled1.ipynb\r\n"
     ]
    }
   ],
   "source": [
    "ls"
   ]
  },
  {
   "cell_type": "code",
   "execution_count": null,
   "id": "25065f01",
   "metadata": {},
   "outputs": [],
   "source": []
  }
 ],
 "metadata": {
  "kernelspec": {
   "display_name": "Python 3",
   "language": "python",
   "name": "python3"
  },
  "language_info": {
   "codemirror_mode": {
    "name": "ipython",
    "version": 3
   },
   "file_extension": ".py",
   "mimetype": "text/x-python",
   "name": "python",
   "nbconvert_exporter": "python",
   "pygments_lexer": "ipython3",
   "version": "3.8.8"
  }
 },
 "nbformat": 4,
 "nbformat_minor": 5
}
